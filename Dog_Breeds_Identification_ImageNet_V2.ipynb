{
  "nbformat": 4,
  "nbformat_minor": 0,
  "metadata": {
    "colab": {
      "provenance": []
    },
    "kernelspec": {
      "name": "python3",
      "display_name": "Python 3"
    },
    "language_info": {
      "name": "python"
    }
  },
  "cells": [
    {
      "cell_type": "markdown",
      "source": [
        "# 🐾 End-to-End Multi-Class Canine Breed Classification\n",
        "\n",
        "This project involves creating an end-to-end multi-class image classifier using TensorFlow 2.0 and TensorFlow Hub.\n",
        "\n",
        "## 1. Problem Statement\n",
        "\n",
        "The objective is to determine the breed of a dog based on an input image.\n",
        "\n",
        "## 2. Data Source\n",
        "\n",
        "The dataset utilized is sourced from Kaggle's competition on dog breed identification.\n",
        "\n",
        "Link to the dataset: [Dog Breed Dataset](https://www.kaggle.com/competitions/dog-breed-identification)\n",
        "\n",
        "## 3. Performance Evaluation\n",
        "\n",
        "Submissions are assessed using the Multi-Class Log Loss metric, measuring the dissimilarity between predicted probabilities and observed targets.\n",
        "\n",
        "For additional details on the evaluation, refer to the [Evaluation Overview](https://www.kaggle.com/competitions/dog-breed-identification/overview) on Kaggle.\n",
        "\n",
        "## 4. Data Characteristics\n",
        "\n",
        "Key information about the dataset:\n",
        "\n",
        "- The data is unstructured, consisting of image data.\n",
        "- There are 120 distinct breeds of dogs, representing 120 different classes.\n",
        "- The training set comprises 10,000+ images, and the test set contains an equivalent number.\n"
      ],
      "metadata": {
        "id": "NMgAsUSbwGEd"
      }
    },
    {
      "cell_type": "code",
      "execution_count": 1,
      "metadata": {
        "id": "dyBb0_oCsHIO"
      },
      "outputs": [],
      "source": [
        "# unzipping the dataset\n",
        "# !unzip 'drive/MyDrive/Dog Vision/dog-breed-identification.zip' -d 'drive/MyDrive/Dog Vision/'"
      ]
    },
    {
      "cell_type": "markdown",
      "source": [
        "The unzip command is used to extract the contents of a ZIP archive. It is not a Python-specific command but a general-purpose command-line utility available in Unix-like operating systems, including Linux and macOS. It is also available on some Windows systems if you have installed additional tools or software like 7-Zip.\n",
        "\n",
        "`!unzip 'drive/MyDrive/Dog Vision/dog-breed-identification.zip' -d 'drive/MyDrive/Dog Vision/'`\n",
        "\n",
        "* !: This is a shell escape character used in Jupyter notebooks or IPython to execute shell commands from within the notebook.\n",
        "* unzip: The command itself.\n",
        "* 'drive/MyDrive/Dog Vision/dog-breed-identification.zip': This is the path to the ZIP file that you want to unzip.\n",
        "* -d 'drive/MyDrive/Dog Vision/': This flag specifies the directory where the contents of the ZIP file should be extracted. In this case, it's the 'drive/MyDrive/Dog Vision/' directory.\n",
        "\n",
        "Commands like unzip are not part of the Python language but are external commands provided by the operating system or third-party tools. Python itself comes with its own package management tools like pip for installing Python packages, and it does not include utilities for handling ZIP files directly in its standard library.\n",
        "\n",
        "Other common command-line utilities for working with compressed files include:\n",
        "\n",
        "* tar: Used for creating and manipulating archive files, often used in combination with compression utilities like gzip or bzip2.\n",
        "* gzip, bzip2, xz: Utilities for compressing and decompressing files.\n",
        "\n",
        "These commands are typically available in Unix-like environments and may need to be installed or configured separately on Windows.\n",
        "\n",
        "In Jupyter Notebooks, you can use various utility commands, often referred to as \"magic commands,\" to perform different tasks. Here are some commonly used magic commands:\n",
        "\n",
        "1. Shell Commands:\n",
        "\n",
        "* !: Allows you to run shell commands from within a cell. For example:\n",
        "\n",
        "`!ls`  # List files in the current directory (on Unix-like systems)\n",
        "`!pwd` # Print the current working directory\n",
        "\n",
        "2. Magic Commands:\n",
        "\n",
        "* %: Indicates a line magic command (applies to a single line), and %% indicates a cell magic command (applies to the entire cell).\n",
        "* %run: Run a Python script as a program.\n",
        "\n",
        "`%run script.py`\n",
        "\n",
        "* `%time` and `%timeit`: Measure the execution time of a Python statement or expression.\n",
        "\n",
        "`%timeit some_function()`\n",
        "\n",
        "* `%load`: Load code into a cell from an external file.\n",
        "\n",
        "`%load my_script.py`\n",
        "\n",
        "3. Cell Magics for Different Languages:\n",
        "\n",
        "* `%%bash`, `%%python`, etc.: Allows you to run cells using a specific interpreter.\n",
        "\n",
        "`%%bash`\n",
        "\n",
        "`echo \"Hello, Bash!\"`\n",
        "\n",
        "4. Interactive Widgets:\n",
        "\n",
        "* %matplotlib inline: Enables inline plotting of matplotlib figures.\n",
        "* %config InlineBackend.figure_format = 'retina': Improves the quality of inline plots.\n",
        "* %load_ext autoreload and %autoreload 2: Automatically reload imported modules.\n",
        "\n",
        "5. Other Utilities:\n",
        "\n",
        "* %who, %whos: Display variables in the namespace.\n",
        "* %reset: Resets the namespace by removing all names defined by the user.\n",
        "* %history: View and search command history.\n",
        "\n",
        "These are just a few examples. You can explore more magic commands by typing %lsmagic to list all available magics or %magic to access the documentation. Additionally, Jupyter supports IPython features, and you can refer to the IPython documentation for more advanced features and utilities."
      ],
      "metadata": {
        "id": "YHENevqwyE84"
      }
    },
    {
      "cell_type": "code",
      "source": [
        "# Import Tensorflow & Tensorflow Hub\n",
        "import tensorflow as tf\n",
        "import tensorflow_hub as hub\n",
        "\n",
        "print('TensorFlow version : ', tf.__version__)\n",
        "print(\"Tensorflow Hub version : \", hub.__version__)"
      ],
      "metadata": {
        "colab": {
          "base_uri": "https://localhost:8080/"
        },
        "id": "PyPFGrmA0X_i",
        "outputId": "7dc66508-28d1-4ba0-ad9e-3fbb65ea7811"
      },
      "execution_count": 2,
      "outputs": [
        {
          "output_type": "stream",
          "name": "stdout",
          "text": [
            "TensorFlow version :  2.15.0\n",
            "Tensorflow Hub version :  0.15.0\n"
          ]
        }
      ]
    },
    {
      "cell_type": "code",
      "source": [
        "tf.config.list_physical_devices(\"GPU\")"
      ],
      "metadata": {
        "colab": {
          "base_uri": "https://localhost:8080/"
        },
        "id": "OdQ72ksM2js8",
        "outputId": "ea048128-eafc-4626-d48c-085cb3194bd7"
      },
      "execution_count": 3,
      "outputs": [
        {
          "output_type": "execute_result",
          "data": {
            "text/plain": [
              "[]"
            ]
          },
          "metadata": {},
          "execution_count": 3
        }
      ]
    },
    {
      "cell_type": "code",
      "source": [
        "# Check for GPU availability\n",
        "print(\"GPU\", \"available\" if tf.config.list_physical_devices(\"GPU\") else \"not available\")"
      ],
      "metadata": {
        "colab": {
          "base_uri": "https://localhost:8080/"
        },
        "id": "xaJwg3-50n7U",
        "outputId": "c6d7cd04-2aee-41e4-d77f-6faf5a65699e"
      },
      "execution_count": 4,
      "outputs": [
        {
          "output_type": "stream",
          "name": "stdout",
          "text": [
            "GPU not available\n"
          ]
        }
      ]
    },
    {
      "cell_type": "markdown",
      "source": [
        "The command tf.config.list_physical_devices(\"GPU\") is a TensorFlow command used to list all the physical GPU devices available on your system. This is particularly useful when you want to check whether TensorFlow can detect and utilize GPU devices for accelerated computations.\n",
        "\n",
        "\n",
        "The output of this command will show information about the available GPU devices, such as their names and device types.\n",
        "\n",
        "Other similar commands and functions in TensorFlow for dealing with hardware and devices include:\n",
        "\n",
        "1. `tf.config.list_physical_devices()`\n",
        "\n",
        "Without specifying a device type, this command lists all available physical devices, including both GPUs and CPUs.\n",
        "\n",
        "    tf.config.list_physical_devices()\n",
        "\n",
        "2. `tf.config.experimental.list_logical_devices()`\n",
        "\n",
        "Lists logical devices. Logical devices might include multiple GPUs that are mirrored for data parallelism.\n",
        "\n",
        "    tf.config.experimental.list_logical_devices()\n",
        "\n",
        "3. `tf.device()`\n",
        "\n",
        "Specifies the device on which a particular operation should be executed.\n",
        "\n",
        "    with tf.device('/GPU:0'):\n",
        "    TensorFlow operations in this block will run on the first GPU\n",
        "    \n",
        "4. `tf.test.is_built_with_cuda()`\n",
        "\n",
        "Checks whether TensorFlow is built with CUDA support, indicating GPU support.\n",
        "\n",
        "    tf.test.is_built_with_cuda()\n",
        "\n",
        "5. `tf.test.gpu_device_name()`\n",
        "\n",
        "Returns the name of the GPU device (if available).\n",
        "\n",
        "    tf.test.gpu_device_name()\n",
        "    \n",
        "Remember, the availability of certain features or commands might depend on the version of TensorFlow you are using. Always refer to the official TensorFlow documentation for the version you are working with for the most accurate and up-to-date information."
      ],
      "metadata": {
        "id": "3MSAOz0G2u-N"
      }
    },
    {
      "cell_type": "code",
      "source": [],
      "metadata": {
        "id": "FKttkdbA4Bpi"
      },
      "execution_count": null,
      "outputs": []
    }
  ]
}