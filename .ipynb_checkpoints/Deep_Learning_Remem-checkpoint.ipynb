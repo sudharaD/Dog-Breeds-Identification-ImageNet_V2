{
 "cells": [
  {
   "cell_type": "markdown",
   "id": "aa9412d0-453c-4259-a875-858f177c6fe2",
   "metadata": {},
   "source": [
    "### Data Exploration and Understanding:\n",
    "\n",
    "* Examine the structure of the dataset (number of samples, features, data types\n",
    "* Check for any missing values or anomalies in the data\n",
    "* Explore the distribution of features and target variables.\n",
    "* Identify any patterns or correlations in the data.\n",
    "\r",
    "### \n",
    "Data Cleaning:\r\n",
    "\r\n",
    "Handle missing values: Decide whether to impute missing values, remove rows/columns with missing values, or use other techniques such as interpolation.\r\n",
    "Handle outliers: Decide whether to remove outliers, cap them, or use other techniques to mitigate their impact.\r\n",
    "Handle duplicate records: Remove duplicate entries if present.\r\n",
    "Normalize or scale features if necessary to ensure uniformity in the data distribution.\r\n",
    "Feature Engineering:\r\n",
    "\r\n",
    "Create new features based on domain knowledge or insights gained from data exploration.\r\n",
    "Encode categorical variables: Convert categorical variables into numerical representations using techniques like one-hot encoding or label encoding.\r\n",
    "Transform variables: Apply transformations such as log transformation, square root transformation, etc., to make the data more linear or Gaussian-like.\r\n",
    "Feature selection: Select the most relevant features that contribute most to the target variable and remove irrelevant or redundant features to simplify the model and reduce overfitting.\r\n",
    "Data Splitting:\r\n",
    "\r\n",
    "Split the dataset into training, validation, and test sets to evaluate the model's performance.\r\n",
    "Typically, the training set is used to train the model, the validation set is used to tune hyperparameters, and the test set is used to evaluate the final model's performance.\r\n",
    "Model-specific Data Preparation:\r\n",
    "\r\n",
    "Some models may require specific data transformations or preprocessing steps. For example, deep learning models often benefit from standardization of input features.\r\n",
    "Iterative Process:\r\n",
    "\r\n",
    "Data preparation is often an iterative process. After building an initial model, you may discover the need for further data cleaning or feature engineering based on the model's performance.\r\n",
    "Documentation:\r\n",
    "\r\n",
    "Document all the preprocessing steps performed on the dataset. This documentation helps ensure reproducibility and makes it easier to understand and replicate the data preparation process."
   ]
  },
  {
   "cell_type": "code",
   "execution_count": 1,
   "id": "c2e65551-dd75-4202-9f6d-b40e85ff9d3e",
   "metadata": {},
   "outputs": [],
   "source": [
    "# import necessary libraries\n",
    "\n",
    "import numpy as np\n",
    "import pandas as pd\n",
    "import matplotlib.pyplot as plt"
   ]
  },
  {
   "cell_type": "code",
   "execution_count": 2,
   "id": "cb33468e-359d-4309-b1d7-ec349624130c",
   "metadata": {},
   "outputs": [
    {
     "data": {
      "text/html": [
       "<div>\n",
       "<style scoped>\n",
       "    .dataframe tbody tr th:only-of-type {\n",
       "        vertical-align: middle;\n",
       "    }\n",
       "\n",
       "    .dataframe tbody tr th {\n",
       "        vertical-align: top;\n",
       "    }\n",
       "\n",
       "    .dataframe thead th {\n",
       "        text-align: right;\n",
       "    }\n",
       "</style>\n",
       "<table border=\"1\" class=\"dataframe\">\n",
       "  <thead>\n",
       "    <tr style=\"text-align: right;\">\n",
       "      <th></th>\n",
       "      <th>sepal_length</th>\n",
       "      <th>sepal_width</th>\n",
       "      <th>petal_length</th>\n",
       "      <th>petal_width</th>\n",
       "      <th>species</th>\n",
       "    </tr>\n",
       "  </thead>\n",
       "  <tbody>\n",
       "    <tr>\n",
       "      <th>0</th>\n",
       "      <td>5.1</td>\n",
       "      <td>3.5</td>\n",
       "      <td>1.4</td>\n",
       "      <td>0.2</td>\n",
       "      <td>0</td>\n",
       "    </tr>\n",
       "    <tr>\n",
       "      <th>1</th>\n",
       "      <td>4.9</td>\n",
       "      <td>3.0</td>\n",
       "      <td>1.4</td>\n",
       "      <td>0.2</td>\n",
       "      <td>0</td>\n",
       "    </tr>\n",
       "    <tr>\n",
       "      <th>2</th>\n",
       "      <td>4.7</td>\n",
       "      <td>3.2</td>\n",
       "      <td>1.3</td>\n",
       "      <td>0.2</td>\n",
       "      <td>0</td>\n",
       "    </tr>\n",
       "    <tr>\n",
       "      <th>3</th>\n",
       "      <td>4.6</td>\n",
       "      <td>3.1</td>\n",
       "      <td>1.5</td>\n",
       "      <td>0.2</td>\n",
       "      <td>0</td>\n",
       "    </tr>\n",
       "    <tr>\n",
       "      <th>4</th>\n",
       "      <td>5.0</td>\n",
       "      <td>3.6</td>\n",
       "      <td>1.4</td>\n",
       "      <td>0.2</td>\n",
       "      <td>0</td>\n",
       "    </tr>\n",
       "  </tbody>\n",
       "</table>\n",
       "</div>"
      ],
      "text/plain": [
       "   sepal_length  sepal_width  petal_length  petal_width  species\n",
       "0           5.1          3.5           1.4          0.2        0\n",
       "1           4.9          3.0           1.4          0.2        0\n",
       "2           4.7          3.2           1.3          0.2        0\n",
       "3           4.6          3.1           1.5          0.2        0\n",
       "4           5.0          3.6           1.4          0.2        0"
      ]
     },
     "execution_count": 2,
     "metadata": {},
     "output_type": "execute_result"
    }
   ],
   "source": [
    "iris_df = pd.read_csv('data/iris.csv')\n",
    "iris_df.head()"
   ]
  },
  {
   "cell_type": "code",
   "execution_count": 3,
   "id": "91638dc1-b430-46d7-878f-2a2aaf4a91df",
   "metadata": {},
   "outputs": [
    {
     "data": {
      "text/html": [
       "<div>\n",
       "<style scoped>\n",
       "    .dataframe tbody tr th:only-of-type {\n",
       "        vertical-align: middle;\n",
       "    }\n",
       "\n",
       "    .dataframe tbody tr th {\n",
       "        vertical-align: top;\n",
       "    }\n",
       "\n",
       "    .dataframe thead th {\n",
       "        text-align: right;\n",
       "    }\n",
       "</style>\n",
       "<table border=\"1\" class=\"dataframe\">\n",
       "  <thead>\n",
       "    <tr style=\"text-align: right;\">\n",
       "      <th></th>\n",
       "      <th>sepal_length</th>\n",
       "      <th>sepal_width</th>\n",
       "      <th>petal_length</th>\n",
       "      <th>petal_width</th>\n",
       "      <th>species</th>\n",
       "    </tr>\n",
       "  </thead>\n",
       "  <tbody>\n",
       "    <tr>\n",
       "      <th>count</th>\n",
       "      <td>150.000000</td>\n",
       "      <td>150.000000</td>\n",
       "      <td>150.000000</td>\n",
       "      <td>150.000000</td>\n",
       "      <td>150.000000</td>\n",
       "    </tr>\n",
       "    <tr>\n",
       "      <th>mean</th>\n",
       "      <td>5.843333</td>\n",
       "      <td>3.054000</td>\n",
       "      <td>3.758667</td>\n",
       "      <td>1.198667</td>\n",
       "      <td>1.000000</td>\n",
       "    </tr>\n",
       "    <tr>\n",
       "      <th>std</th>\n",
       "      <td>0.828066</td>\n",
       "      <td>0.433594</td>\n",
       "      <td>1.764420</td>\n",
       "      <td>0.763161</td>\n",
       "      <td>0.819232</td>\n",
       "    </tr>\n",
       "    <tr>\n",
       "      <th>min</th>\n",
       "      <td>4.300000</td>\n",
       "      <td>2.000000</td>\n",
       "      <td>1.000000</td>\n",
       "      <td>0.100000</td>\n",
       "      <td>0.000000</td>\n",
       "    </tr>\n",
       "    <tr>\n",
       "      <th>25%</th>\n",
       "      <td>5.100000</td>\n",
       "      <td>2.800000</td>\n",
       "      <td>1.600000</td>\n",
       "      <td>0.300000</td>\n",
       "      <td>0.000000</td>\n",
       "    </tr>\n",
       "    <tr>\n",
       "      <th>50%</th>\n",
       "      <td>5.800000</td>\n",
       "      <td>3.000000</td>\n",
       "      <td>4.350000</td>\n",
       "      <td>1.300000</td>\n",
       "      <td>1.000000</td>\n",
       "    </tr>\n",
       "    <tr>\n",
       "      <th>75%</th>\n",
       "      <td>6.400000</td>\n",
       "      <td>3.300000</td>\n",
       "      <td>5.100000</td>\n",
       "      <td>1.800000</td>\n",
       "      <td>2.000000</td>\n",
       "    </tr>\n",
       "    <tr>\n",
       "      <th>max</th>\n",
       "      <td>7.900000</td>\n",
       "      <td>4.400000</td>\n",
       "      <td>6.900000</td>\n",
       "      <td>2.500000</td>\n",
       "      <td>2.000000</td>\n",
       "    </tr>\n",
       "  </tbody>\n",
       "</table>\n",
       "</div>"
      ],
      "text/plain": [
       "       sepal_length  sepal_width  petal_length  petal_width     species\n",
       "count    150.000000   150.000000    150.000000   150.000000  150.000000\n",
       "mean       5.843333     3.054000      3.758667     1.198667    1.000000\n",
       "std        0.828066     0.433594      1.764420     0.763161    0.819232\n",
       "min        4.300000     2.000000      1.000000     0.100000    0.000000\n",
       "25%        5.100000     2.800000      1.600000     0.300000    0.000000\n",
       "50%        5.800000     3.000000      4.350000     1.300000    1.000000\n",
       "75%        6.400000     3.300000      5.100000     1.800000    2.000000\n",
       "max        7.900000     4.400000      6.900000     2.500000    2.000000"
      ]
     },
     "execution_count": 3,
     "metadata": {},
     "output_type": "execute_result"
    }
   ],
   "source": [
    "iris_df.describe()"
   ]
  },
  {
   "cell_type": "code",
   "execution_count": 4,
   "id": "05bd15ad-d573-4e29-9631-519664ae1427",
   "metadata": {},
   "outputs": [
    {
     "data": {
      "text/plain": [
       "sepal_length    0\n",
       "sepal_width     0\n",
       "petal_length    0\n",
       "petal_width     0\n",
       "species         0\n",
       "dtype: int64"
      ]
     },
     "execution_count": 4,
     "metadata": {},
     "output_type": "execute_result"
    }
   ],
   "source": [
    "iris_df.isnull().sum()"
   ]
  },
  {
   "cell_type": "code",
   "execution_count": 5,
   "id": "7475b3dc-f838-4995-a1ca-ff027f5a3447",
   "metadata": {},
   "outputs": [
    {
     "data": {
      "text/plain": [
       "Index(['sepal_length', 'sepal_width', 'petal_length', 'petal_width',\n",
       "       'species'],\n",
       "      dtype='object')"
      ]
     },
     "execution_count": 5,
     "metadata": {},
     "output_type": "execute_result"
    }
   ],
   "source": [
    "iris_df.columns"
   ]
  },
  {
   "cell_type": "code",
   "execution_count": 6,
   "id": "226d7ff0-d49d-438f-ba59-788324cb13fd",
   "metadata": {},
   "outputs": [
    {
     "data": {
      "text/plain": [
       "(150, 5)"
      ]
     },
     "execution_count": 6,
     "metadata": {},
     "output_type": "execute_result"
    }
   ],
   "source": [
    "iris_df.shape"
   ]
  },
  {
   "cell_type": "code",
   "execution_count": 7,
   "id": "730f84d0-4204-458f-a6fe-c8942fb015fe",
   "metadata": {},
   "outputs": [
    {
     "name": "stdout",
     "output_type": "stream",
     "text": [
      "\n",
      "Duplicate Rows: 3\n"
     ]
    }
   ],
   "source": [
    "# Check for duplicate rows\n",
    "duplicate_rows = iris_df.duplicated().sum()\n",
    "print(\"\\nDuplicate Rows:\", duplicate_rows)"
   ]
  },
  {
   "cell_type": "code",
   "execution_count": 8,
   "id": "d36e0951-6259-4d63-9952-102c2b508608",
   "metadata": {},
   "outputs": [
    {
     "name": "stdout",
     "output_type": "stream",
     "text": [
      "\n",
      "Unique Target Values: [0 1 2]\n"
     ]
    }
   ],
   "source": [
    "# Check for unique values in the target column\n",
    "unique_targets = iris_df['species'].unique()\n",
    "print(\"\\nUnique Target Values:\", unique_targets)"
   ]
  },
  {
   "cell_type": "code",
   "execution_count": 9,
   "id": "89947fb0-c33e-4912-a3cf-d9e274b8683e",
   "metadata": {},
   "outputs": [
    {
     "name": "stdout",
     "output_type": "stream",
     "text": [
      "\n",
      "Summary Statistics:\n",
      "        sepal_length  sepal_width  petal_length  petal_width     species\n",
      "count    150.000000   150.000000    150.000000   150.000000  150.000000\n",
      "mean       5.843333     3.054000      3.758667     1.198667    1.000000\n",
      "std        0.828066     0.433594      1.764420     0.763161    0.819232\n",
      "min        4.300000     2.000000      1.000000     0.100000    0.000000\n",
      "25%        5.100000     2.800000      1.600000     0.300000    0.000000\n",
      "50%        5.800000     3.000000      4.350000     1.300000    1.000000\n",
      "75%        6.400000     3.300000      5.100000     1.800000    2.000000\n",
      "max        7.900000     4.400000      6.900000     2.500000    2.000000\n"
     ]
    }
   ],
   "source": [
    "# Check summary statistics\n",
    "summary_stats = iris_df.describe()\n",
    "print(\"\\nSummary Statistics:\\n\", summary_stats)"
   ]
  },
  {
   "cell_type": "code",
   "execution_count": 10,
   "id": "1a7661e7-f9b3-4112-bd1b-b9ffc8933d2e",
   "metadata": {},
   "outputs": [
    {
     "name": "stdout",
     "output_type": "stream",
     "text": [
      "\n",
      "Outliers (z-score > 3):\n",
      " sepal_length    0\n",
      "sepal_width     1\n",
      "petal_length    0\n",
      "petal_width     0\n",
      "dtype: int64\n"
     ]
    }
   ],
   "source": [
    "# Check for outliers (assuming the data is normally distributed)\n",
    "from scipy import stats\n",
    "z_scores = stats.zscore(iris_df.drop(columns='species'))\n",
    "outliers = (z_scores > 3).sum(axis=0)\n",
    "print(\"\\nOutliers (z-score > 3):\\n\", outliers)"
   ]
  },
  {
   "cell_type": "code",
   "execution_count": 11,
   "id": "072fceda-c615-47a4-806a-a705de35c958",
   "metadata": {},
   "outputs": [
    {
     "data": {
      "image/png": "[encoded data removed]",
      "text/plain": [
       "<Figure size 640x480 with 1 Axes>"
      ]
     },
     "metadata": {},
     "output_type": "display_data"
    }
   ],
   "source": [
    "import matplotlib.pyplot as plt\n",
    "import seaborn as sns\n",
    "\n",
    "# Assuming iris_df is your DataFrame containing the Iris dataset\n",
    "\n",
    "# Identify columns with outliers\n",
    "outlier_columns = outliers[outliers > 0].index\n",
    "\n",
    "# Plot all data points\n",
    "sns.scatterplot(x='sepal_length', y='sepal_width', hue='species', data=iris_df, palette='Set1', label='Data Points')\n",
    "\n",
    "# Highlight the outlier points\n",
    "for col in outlier_columns:\n",
    "    outlier_indices = iris_df.index[z_scores[col] > 3]  # Using z_scores here instead of outliers\n",
    "    plt.scatter(iris_df.loc[outlier_indices, 'sepal_length'], iris_df.loc[outlier_indices, 'sepal_width'], color='black', label='Outliers')\n",
    "\n",
    "plt.xlabel('Sepal Length')\n",
    "plt.ylabel('Sepal Width')\n",
    "plt.title('Scatter Plot of Sepal Length vs Sepal Width with Outliers Highlighted')\n",
    "plt.legend()\n",
    "plt.show()\n"
   ]
  },
  {
   "cell_type": "code",
   "execution_count": 12,
   "id": "a0e44e09-cc96-4dce-b3f1-bcc5115c43c1",
   "metadata": {},
   "outputs": [
    {
     "name": "stdout",
     "output_type": "stream",
     "text": [
      "Outlier Value:\n",
      "   sepal_length  sepal_width  petal_length  petal_width  species\n",
      "0           5.1          3.5           1.4          0.2        0\n",
      "1           4.9          3.0           1.4          0.2        0\n",
      "0           5.1          3.5           1.4          0.2        0\n",
      "0           5.1          3.5           1.4          0.2        0\n"
     ]
    }
   ],
   "source": [
    "# Identify the index of the outlier\n",
    "outlier_index = iris_df.index[outliers]\n",
    "\n",
    "# Print the outlier value and its location\n",
    "print(\"Outlier Value:\")\n",
    "print(iris_df.loc[outlier_index])"
   ]
  },
  {
   "cell_type": "code",
   "execution_count": 13,
   "id": "1039e060-f8e0-4ec4-b86e-b6f29de13bd2",
   "metadata": {},
   "outputs": [
    {
     "name": "stdout",
     "output_type": "stream",
     "text": [
      "Outlier Value:    sepal_length  sepal_width  petal_length  petal_width  species\n",
      "0           5.1          3.5           1.4          0.2        0\n",
      "1           4.9          3.0           1.4          0.2        0\n",
      "0           5.1          3.5           1.4          0.2        0\n",
      "0           5.1          3.5           1.4          0.2        0\n"
     ]
    }
   ],
   "source": [
    "# Print only the outlier value\n",
    "print(\"Outlier Value:\", iris_df.iloc[outlier_index])"
   ]
  },
  {
   "cell_type": "markdown",
   "id": "21a4cc2c-820e-4a3d-9cb2-31e046c775da",
   "metadata": {},
   "source": [
    "Dropping the target column before calculating the z-scores is a common practice when performing outlier detection, especially if the target column contains labels or categories. The purpose of outlier detection is typically to identify unusual or extreme values in the features (independent variables), rather than in the target variable (dependent variable).\n",
    "\n",
    "In many cases, outliers in the target variable are legitimate data points representing genuine extreme cases or anomalies. For example, in a regression analysis, the target variable might represent sales prices, and extremely high prices could be legitimate observations for expensive properties. In such cases, removing outliers from the target variable could distort the analysis or prediction.\n",
    "\n",
    "By dropping the target column before calculating z-scores, the outlier detection focuses solely on the features, which are the input variables to the model. This helps in identifying outliers that might affect the model's performance or assumptions.\n",
    "\n",
    "However, if your dataset has a different structure or if you're performing outlier detection in a different context, you might handle the target variable differently. For example, if you're performing outlier detection for anomaly detection purposes where the target variable itself is an indicator of anomalies, you might include it in the outlier detection process.\n",
    "\n",
    "So, the decision to drop the target column before outlier detection depends on the specific requirements of your analysis and the nature of your dataset."
   ]
  },
  {
   "cell_type": "markdown",
   "id": "5c70d287-2741-466a-9b9d-19d4b294419a",
   "metadata": {},
   "source": [
    "Handling missing values, duplicate rows, and outliers is crucial for data preprocessing before building a machine learning model. Here are methods to handle each of these issues:\n",
    "\n",
    "### Handling Missing Values:\n",
    "\n",
    "1. **Remove rows or columns with missing values** (`dropna()` method).\n",
    "2. **Replace missing values with a specific value** (e.g., mean, median, mode) using `fillna()` method.\n",
    "3. **Use advanced imputation techniques** such as K-nearest neighbors (KNN) imputation or predictive modeling to fill missing values.\n",
    "\n",
    "### Handling Duplicate Rows:\n",
    "\n",
    "1. **Remove duplicate rows** using `drop_duplicates()` method.\n",
    "2. **Keep only the first occurrence** of each duplicated row or the last occurrence.\n",
    "\n",
    "### Handling Outliers:\n",
    "\n",
    "1. **Remove outliers:** This can be done by filtering the data using statistical methods like z-scores or interquartile range (IQR) method.\n",
    "2. **Transform outliers:** Apply data transformations such as log transformation, square root transformation, or Box-Cox transformation to make the data more normally distributed.\n",
    "3. **Treat outliers separately:** Depending on the domain knowledge, outliers might represent important information and could be treated separately in the analysis.\n",
    "\n",
    "Now, let's see the code to handle these issues:\n",
    "\n",
    "```python\n",
    "# Handling missing values\n",
    "# Drop rows with missing values\n",
    "df_dropna = df.dropna()\n",
    "\n",
    "# Replace missing values with mean\n",
    "df_fillna_mean = df.fillna(df.mean())\n",
    "\n",
    "# Handling duplicate rows\n",
    "df_no_duplicates = df.drop_duplicates()\n",
    "\n",
    "# Handling outliers using z-score method\n",
    "from scipy import stats\n",
    "z_scores = stats.zscore(df.drop(columns='target'))\n",
    "outliers = (z_scores > 3).any(axis=1)\n",
    "df_no_outliers = df[~outliers]\n",
    "\n",
    "# Handling outliers using IQR method\n",
    "Q1 = df.quantile(0.25)\n",
    "Q3 = df.quantile(0.75)\n",
    "IQR = Q3 - Q1\n",
    "outliers_iqr = ((df < (Q1 - 1.5 * IQR)) | (df > (Q3 + 1.5 * IQR))).any(axis=1)\n",
    "df_no_outliers_iqr = df[~outliers_iqr]\n"
   ]
  },
  {
   "cell_type": "markdown",
   "id": "5c921657-5b1d-4dc8-891d-c8639ab459a4",
   "metadata": {},
   "source": [
    "Outliers are data points that significantly differ from other observations in the dataset. They can occur due to various reasons such as errors in data collection, measurement errors, or genuinely rare events. Outliers can skew statistical analyses and machine learning models, hence they need to be identified and potentially treated appropriately.\n",
    "\n",
    "The code provided uses z-scores to detect outliers under the assumption that the data follows a normal distribution.\n",
    "\n",
    "### Z-Score:\n",
    "A z-score (or standard score) measures how many standard deviations an individual data point is from the mean of the dataset. It's calculated using the formula:\n",
    "\n",
    "\\[ z = \\frac{x - \\mu}{\\sigma} \\]\n",
    "\n",
    "Where:\n",
    "- \\( x \\) is the individual data point.\n",
    "- \\( \\mu \\) is the mean of the dataset.\n",
    "- \\( \\sigma \\) is the standard deviation of the dataset.\n",
    "\n",
    "### Detecting Outliers:\n",
    "In a normal distribution, about 99.7% of the data falls within three standard deviations of the mean. So, the code checks for outliers by identifying data points where the absolute value of the z-score is greater than 3. This is based on the empirical rule (also known as the 68-95-99.7 rule).\n",
    "\n",
    "By setting a threshold of 3, the code identifies data points that are more than three standard deviations away from the mean, considering them as potential outliers.\n",
    "\n",
    "The choice of 3 as the threshold is somewhat arbitrary but is commonly used. It represents a significant deviation from the mean and is based on the empirical rule mentioned above. However, depending on the specific context and requirements of the analysis, you might choose a different threshold. For instance, you might use a more conservative threshold if you want to be stricter in identifying outliers or a less conservative threshold if you want to be more inclusive.\n"
   ]
  },
  {
   "cell_type": "markdown",
   "id": "2f73cd67-a3e1-4a4b-97a7-e822d13038f9",
   "metadata": {},
   "source": [
    "# Normalize the dataset"
   ]
  },
  {
   "cell_type": "markdown",
   "id": "e06a4efe-b087-463c-956d-8e9612c4d385",
   "metadata": {},
   "source": [
    "You can normalize or scale features in a dataset using various techniques such as Min-Max scaling, Standardization (Z-score scaling), or Robust scaling. Here are examples of how to perform Min-Max scaling and Standardization using Python:\n",
    "\n",
    "Min-Max Scaling:\n",
    "Min-Max scaling scales the data to a fixed range, usually between 0 and 1."
   ]
  },
  {
   "cell_type": "code",
   "execution_count": 14,
   "id": "e727ff3b-d280-4759-a395-1f58f0b22626",
   "metadata": {},
   "outputs": [
    {
     "ename": "ModuleNotFoundError",
     "evalue": "No module named 'sklearn'",
     "output_type": "error",
     "traceback": [
      "\u001b[1;31m---------------------------------------------------------------------------\u001b[0m",
      "\u001b[1;31mModuleNotFoundError\u001b[0m                       Traceback (most recent call last)",
      "Cell \u001b[1;32mIn[14], line 1\u001b[0m\n\u001b[1;32m----> 1\u001b[0m \u001b[38;5;28;01mfrom\u001b[39;00m \u001b[38;5;21;01msklearn\u001b[39;00m\u001b[38;5;21;01m.\u001b[39;00m\u001b[38;5;21;01mpreprocessing\u001b[39;00m \u001b[38;5;28;01mimport\u001b[39;00m MinMaxScaler\n\u001b[0;32m      3\u001b[0m \u001b[38;5;66;03m# Create MinMaxScaler object\u001b[39;00m\n\u001b[0;32m      4\u001b[0m scaler \u001b[38;5;241m=\u001b[39m MinMaxScaler()\n",
      "\u001b[1;31mModuleNotFoundError\u001b[0m: No module named 'sklearn'"
     ]
    }
   ],
   "source": [
    "from sklearn.preprocessing import MinMaxScaler\n",
    "\n",
    "# Create MinMaxScaler object\n",
    "scaler = MinMaxScaler()\n",
    "\n",
    "# Fit and transform the data\n",
    "scaled_data = scaler.fit_transform(iris_df)\n",
    "\n",
    "# Convert scaled data back to DataFrame (optional)\n",
    "scaled_df = pd.DataFrame(scaled_data, columns=iris_df.columns)"
   ]
  },
  {
   "cell_type": "code",
   "execution_count": null,
   "id": "8b120220-ff51-43bd-bfc7-8024f4ffba7a",
   "metadata": {},
   "outputs": [],
   "source": []
  }
 ],
 "metadata": {
  "kernelspec": {
   "display_name": "Python 3 (ipykernel)",
   "language": "python",
   "name": "python3"
  },
  "language_info": {
   "codemirror_mode": {
    "name": "ipython",
    "version": 3
   },
   "file_extension": ".py",
   "mimetype": "text/x-python",
   "name": "python",
   "nbconvert_exporter": "python",
   "pygments_lexer": "ipython3",
   "version": "3.8.18"
  }
 },
 "nbformat": 4,
 "nbformat_minor": 5
}
